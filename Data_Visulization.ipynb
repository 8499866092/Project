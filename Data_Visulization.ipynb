{
  "nbformat": 4,
  "nbformat_minor": 0,
  "metadata": {
    "colab": {
      "provenance": []
    },
    "kernelspec": {
      "name": "python3",
      "display_name": "Python 3"
    },
    "language_info": {
      "name": "python"
    }
  },
  "cells": [
    {
      "cell_type": "code",
      "execution_count": null,
      "metadata": {
        "id": "PLujul54jNic"
      },
      "outputs": [],
      "source": [
        "import seaborn as sns\n",
        "import matplotlib.pyplot as plt\n",
        "import matplotlib.patches as mpatches # Import for creating proxy artists\n",
        "\n",
        "# Ensure inline plotting\n",
        "%matplotlib inline\n",
        "sns.set(style=\"whitegrid\")\n",
        "\n",
        "# Continuous features to plot\n",
        "features = ['N', 'P', 'K', 'ph', 'temperature', 'humidity', 'rainfall']\n",
        "\n",
        "# Get unique crop labels and a color palette\n",
        "unique_labels = df['label'].unique()\n",
        "colors = sns.color_palette('Set2', n_colors=len(unique_labels))\n",
        "label_color_map = dict(zip(unique_labels, colors))\n",
        "\n",
        "# HISTOGRAMS\n",
        "for col in features:\n",
        "    plt.figure(figsize=(10, 6))\n",
        "    # Use the histplot without hue for now, we will add the legend manually\n",
        "    sns.histplot(data=df, x=col, kde=True, multiple='stack', palette='Set2', hue='label')\n",
        "    plt.title(f\"Histogram of {col} across crop types\")\n",
        "    plt.xlabel(col)\n",
        "    plt.ylabel(\"Frequency\")\n",
        "\n",
        "    # Create proxy artists for the legend\n",
        "    legend_patches = [mpatches.Patch(color=label_color_map[label], label=label)\n",
        "                      for label in unique_labels]\n",
        "\n",
        "    # Add the legend using the proxy artists\n",
        "    plt.legend(handles=legend_patches, bbox_to_anchor=(1.05, 1), loc='upper left')\n",
        "\n",
        "    plt.tight_layout()\n",
        "    plt.show()\n",
        "\n",
        "# BOXPLOTS (existing code, no change needed for the legend issue)\n",
        "for col in features:\n",
        "    plt.figure(figsize=(10, 6))\n",
        "    sns.boxplot(data=df, x='label', y=col, hue=None, palette='Pastel1')\n",
        "    plt.title(f\"Boxplot of {col} for each crop type\")\n",
        "    plt.xlabel(\"Crop Type\")\n",
        "    plt.ylabel(col)\n",
        "    plt.xticks(rotation=45)\n",
        "    plt.tight_layout()\n",
        "    plt.show()"
      ]
    },
    {
      "cell_type": "code",
      "source": [
        "# Select only the features and label for pairplot\n",
        "pairplot_df = df[features + ['label']]\n",
        "\n",
        "# PAIRPLOT\n",
        "sns.pairplot(pairplot_df, hue='label', palette='tab10', corner=True, diag_kind='kde')\n",
        "plt.suptitle(\"Pair Plot of Features Colored by Crop Type\", y=1.02)\n",
        "plt.show()\n"
      ],
      "metadata": {
        "id": "bqggWpCgjOva"
      },
      "execution_count": null,
      "outputs": []
    }
  ]
}