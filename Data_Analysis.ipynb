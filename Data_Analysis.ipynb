{
  "nbformat": 4,
  "nbformat_minor": 0,
  "metadata": {
    "colab": {
      "provenance": []
    },
    "kernelspec": {
      "name": "python3",
      "display_name": "Python 3"
    },
    "language_info": {
      "name": "python"
    }
  },
  "cells": [
    {
      "cell_type": "markdown",
      "source": [
        "# **Data Analysis**"
      ],
      "metadata": {
        "id": "FTM8kwDZi7m4"
      }
    },
    {
      "cell_type": "code",
      "execution_count": null,
      "metadata": {
        "id": "z0OqRESsi6hW"
      },
      "outputs": [],
      "source": [
        "# ================================\n",
        "# STEP 7: DESCRIPTIVE STATISTICS (Grouped by Crop Type)\n",
        "# ================================\n",
        "\n",
        "# Continuous feature columns (after scaling)\n",
        "continuous_features = ['N', 'P', 'K', 'temperature', 'humidity', 'ph', 'rainfall']\n",
        "\n",
        "# Group by original crop label (not the encoded one)\n",
        "desc_stats = df.groupby('label')[continuous_features].agg(['mean', 'median', 'min', 'max'])\n",
        "\n",
        "print(\"📊 Descriptive statistics by crop type:\")\n",
        "display(desc_stats)\n",
        "\n",
        "# ================================\n",
        "# STEP 8: CORRELATION ANALYSIS\n",
        "# ================================\n",
        "\n",
        "# Compute correlation matrix (only for continuous features)\n",
        "correlation_matrix = df[continuous_features].corr()\n",
        "\n",
        "print(\"\\n🔗 Correlation Matrix:\")\n",
        "print(correlation_matrix)\n",
        "\n",
        "# (Optional) Visualize correlation matrix using heatmap\n",
        "import seaborn as sns\n",
        "import matplotlib.pyplot as plt\n",
        "\n",
        "plt.figure(figsize=(10, 6))\n",
        "sns.heatmap(correlation_matrix, annot=True, cmap='coolwarm', fmt='.2f', linewidths=0.5)\n",
        "plt.title('Heatmap of Feature Correlations')\n",
        "plt.xticks(rotation=45)\n",
        "plt.yticks(rotation=0)\n",
        "plt.tight_layout()\n",
        "plt.show()\n",
        "\n",
        "#To save the descriptive stats to CSV\n",
        "#desc_stats.to_csv('/content/descriptive_statistics_by_crop.csv')\n",
        "# ================================\n",
        "# STEP 7: DESCRIPTIVE STATISTICS (Grouped by Crop Type)\n",
        "# ================================\n",
        "\n",
        "# Continuous feature columns (after scaling)\n",
        "continuous_features = ['N', 'P', 'K', 'temperature', 'humidity', 'ph', 'rainfall']\n",
        "\n",
        "# Group by original crop label (not the encoded one)\n",
        "desc_stats = df.groupby('label')[continuous_features].agg(['mean', 'median', 'min', 'max'])\n",
        "\n",
        "print(\"📊 Descriptive statistics by crop type:\")\n",
        "display(desc_stats)\n",
        "\n",
        "# ================================\n",
        "# STEP 8: CORRELATION ANALYSIS\n",
        "# ================================\n",
        "\n",
        "# Compute correlation matrix (only for continuous features)\n",
        "correlation_matrix = df[continuous_features].corr()\n",
        "\n",
        "print(\"\\n🔗 Correlation Matrix:\")\n",
        "print(correlation_matrix)\n",
        "\n",
        "# (Optional) Visualize correlation matrix using heatmap\n",
        "import seaborn as sns\n",
        "import matplotlib.pyplot as plt\n",
        "\n",
        "plt.figure(figsize=(10, 6))\n",
        "sns.heatmap(correlation_matrix, annot=True, cmap='coolwarm', fmt='.2f', linewidths=0.5)\n",
        "plt.title('Heatmap of Feature Correlations')\n",
        "plt.xticks(rotation=45)\n",
        "plt.yticks(rotation=0)\n",
        "plt.tight_layout()\n",
        "plt.show()\n",
        "\n",
        "#To save the descriptive stats to CSV\n",
        "#desc_stats.to_csv('/content/descriptive_statistics_by_crop.csv')\n"
      ]
    }
  ]
}